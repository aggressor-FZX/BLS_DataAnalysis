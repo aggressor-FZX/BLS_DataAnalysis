{
 "cells": [
  {
   "cell_type": "markdown",
   "id": "513a65fa-ca24-45bd-9bd3-92d5c0cc7b70",
   "metadata": {},
   "source": [
    "# Data Visualization Script\n",
    "\n",
    "**Author**: Jeff Calderon  \n",
    "**Date**: October 2, 2024  \n",
    "\n",
    "### Description:\n",
    "This script is designed to get statistics from U.S. Bureau of Labor Statistics API (www.bls.gov) and to visualize data trends over time using Python libraries such as Pandas and Matplotlib. It makes multiple plots. The process includes:\n",
    "\n",
    "1. **Importing Necessary Libraries**: To handle data manipulation and visualization.\n",
    "2. **Defining the Data**: A sample DataFrame containing Year, Month, and Value columns.\n",
    "3. **Preprocessing**:\n",
    "   - Mapping month names to numeric values.\n",
    "   - Converting values to numeric types.\n",
    "4. **Creating a Combined Date Column**: By merging Year and Month for accurate time-series plotting.\n",
    "5. **Plotting Data**:\n",
    "   - Generating scatter plots with appropriate axis labels, titles, and limits for clarity.\n",
    "\n",
    "### Purpose:\n",
    "To provide a clear and concise visualization of data points over time, enabling better analysis and interpretation of trends.\n",
    "### Example Plot:\n",
    "![Values Over Time](LookWhatICanDo.png)\n"
   ]
  },
  {
   "cell_type": "code",
   "execution_count": null,
   "id": "14440b1f-0004-4eb4-8c50-efe88d621b3c",
   "metadata": {},
   "outputs": [],
   "source": [
    "import requests\n",
    "import json\n",
    "import pandas as pd\n",
    "import matplotlib.pyplot as plt\n",
    "from matplotlib import pyplot\n",
    "import seaborn as sns\n",
    "import numpy as np\n",
    "import random\n",
    "from prettytable import PrettyTable\n"
   ]
  },
  {
   "cell_type": "code",
   "execution_count": null,
   "id": "668c90f0-8979-4527-8a64-f698ad39c88e",
   "metadata": {},
   "outputs": [],
   "source": [
    "# Load the data type dictionary for use when ploting\n",
    "with open('data_type_dict.json', 'r') as file:\n",
    "    data_type_dict = json.load(file)"
   ]
  },
  {
   "cell_type": "markdown",
   "id": "02cfe531-5d2c-4ce6-a9ae-dd6b293491f4",
   "metadata": {},
   "source": [
    "Going to need an API key and the URL to the server with the BLS Data on it\n"
   ]
  },
  {
   "cell_type": "code",
   "execution_count": null,
   "id": "be670b07-6286-4c3f-8214-5dad31a232dd",
   "metadata": {},
   "outputs": [],
   "source": [
    "BLS_API_KEY = 'aa6acc3f370041248afd5ca7de81b2fa'\n",
    "BLS_ENDPOINT = \"https://api.bls.gov/publicAPI/v2/timeseries/data/\"\n",
    "\n"
   ]
  },
  {
   "cell_type": "markdown",
   "id": "6581df29-4583-4a78-a303-6b554c0d1e01",
   "metadata": {},
   "source": [
    "    Pass in a list of BLS timeseries to fetch data and return the series\n",
    "    in JSON format. Arguments:\n",
    "        - startyear (4 digit year)\n",
    "        - endyear (4 digit year)\n",
    "        - registrationKey (api key from BLS website)\n",
    "    If the registrationKey is not passed in, this function will use the\n",
    "    BLS_API_KEY fetched from the environment.\n"
   ]
  },
  {
   "cell_type": "code",
   "execution_count": null,
   "id": "5026a905-250d-489f-a55b-2f093084ad82",
   "metadata": {},
   "outputs": [],
   "source": [
    "\n",
    "def fetch_bls_series(series, BLS_API_KEY, startyear, endyear):\n",
    "   \n",
    "    if len(series) < 1 or len(series) > 25:\n",
    "        raise ValueError(\"Must pass in between 1 and 25 series ids\")\n",
    "        \n",
    "    # Create headers; tells server what type of info we are sending, in this json\n",
    "\n",
    "    headers = {'Content-Type': 'application/json'}\n",
    "    \n",
    "    # payload post data, here we tell it what we want and our send the key: \n",
    "    payload = {\n",
    "        'seriesid': series,\n",
    "        'registrationKey': BLS_API_KEY,\n",
    "    }\n",
    "    \n",
    "    # Update the payload with the keyword arguments and convert to JSON\n",
    "    # payload.update(kwargs)\n",
    "    payload = json.dumps(payload)\n",
    "    # Fetch the response from the BLS API\n",
    "    response = requests.post(BLS_ENDPOINT, data=payload, headers=headers)\n",
    "    response.raise_for_status()\n",
    "    # Parse the JSON result\n",
    "    #result = response.json()\n",
    "    result = json.loads(response.text)\n",
    "    if result['status'] != 'REQUEST_SUCCEEDED':\n",
    "        raise Exception(result['message'][0])\n",
    "    return result"
   ]
  },
  {
   "cell_type": "markdown",
   "id": "c1552f99-ecaf-4542-a4fb-0c0236a7d7b7",
   "metadata": {},
   "source": [
    "Series ID    FORMAT \n",
    "CE Prefix: National Employment, Hours, and Earnings\n",
    "U Seasonal Adjustment Code\n",
    "60 Super Sector: Professional and Business services\n",
    "541512 industry: \tCustom computer programming services\t\n",
    "\n",
    "CEU605415120001 last two is data type add zeroes to make it 13 numbers\n",
    "\n",
    "\n",
    "\n",
    "\tPositions       Value           Field Name\n",
    "\t1-2             CE              Prefix\n",
    "\t3               U               Seasonal Adjustment Code\n",
    "\t4-11\t\t08000000\tSupersector and Industry Codes\n",
    "\t12-13           03              Data Type Code\n",
    "    "
   ]
  },
  {
   "cell_type": "raw",
   "id": "6b4b0c93-311a-4dd6-9fd5-04f9952807ce",
   "metadata": {},
   "source": [
    "Response Format looks like this\n",
    "{\n",
    "  \"status\": \"REQUEST_SUCCEEDED\",\n",
    "  \"responseTime\": 50,\n",
    "  \"message\": [],\n",
    "  \"Results\": {\n",
    "    \"series\": [\n",
    "      {\n",
    "        \"seriesID\": \"CEU6054150001\",\n",
    "        \"data\": [\n",
    "          {\n",
    "            \"year\": \"2023\",\n",
    "            \"period\": \"M12\",\n",
    "            \"periodName\": \"December\",\n",
    "            \"value\": \"1000\",\n",
    "            \"footnotes\": [{}]\n",
    "          },\n",
    "          {\n",
    "            \"year\": \"2023\",\n",
    "            \"period\": \"M11\",\n",
    "            \"periodName\": \"November\",\n",
    "            \"value\": \"995\",\n",
    "            \"footnotes\": [{}]\n",
    "          }\n",
    "          // More data points...\n",
    "        ]\n",
    "      },\n",
    "      // More series...\n",
    "    ]\n",
    "  }\n",
    "}\n"
   ]
  },
  {
   "cell_type": "code",
   "execution_count": null,
   "id": "6fbf966c-ffb3-473f-b118-c0480c0afd31",
   "metadata": {},
   "outputs": [],
   "source": [
    "series_dict = {\n",
    "    'CEU6054150011': 'Computer systems design and related services weekly',\n",
    "    'CEU6054151101': 'Custom computer programming services weekly',\n",
    "    'CEU6054151201': 'Computer systems design services weekly',\n",
    "    'CEU6054151301': 'Computer facilities management services weekly',\n",
    "    'CEU6054151901': 'Other computer related services weekly',\n",
    "    'CES6054150001': 'Computer systems design and related services employment',\n",
    "    'CES6054151101': 'Custom computer programming services employment',\n",
    "    'CES6054151201': 'Computer systems design services employment',\n",
    "    'CES6054151301': 'Computer facilities management services employment',\n",
    "    'CES6054151901': 'Other computer related services employment',\n",
    "    'CEU6056100001' : 'Administrative and Support Services Employment',\n",
    "    'CEU6056100006' : 'Administrative and Support Services Pay',\n",
    "    'CEU8081210001' : 'Personal Care Services Employment',\n",
    "    'CEU8081210006' : 'Personal Care Services Pay'\n",
    "}\n",
    "series_list = list(series_dict.keys()) # Take the series id and make a list of them\n",
    "\n",
    "json_data = fetch_bls_series(series_list, BLS_API_KEY, 2015, 2024) \n",
    "\n",
    "# list for value pairs"
   ]
  },
  {
   "cell_type": "code",
   "execution_count": null,
   "id": "c0a5b446-28df-4e76-ad0b-eb7d60ae8eca",
   "metadata": {},
   "outputs": [],
   "source": [
    "# container for values to keep\n",
    "data_list = []\n",
    "for series in json_data['Results']['series']:\n",
    "    if series['data']:\n",
    "        series_num = series['seriesID']\n",
    "        ind_name = series_dict[series['seriesID']]\n",
    "        data_type = data_type_dict[series_num[-2:]] # check last two of seriesid \n",
    "        \n",
    "        for entry in series['data']:\n",
    "            # Convert 'year' and 'period' into a single 'Date' column (e.g., YYYY-MM)\n",
    "            data_list.append( {\n",
    "                'Series ID' : series_num,\n",
    "                'Industry' : ind_name,\n",
    "                'Year' : entry['year'],\n",
    "                'Month' : entry['periodName'],\n",
    "                'Type' : data_type,\n",
    "                'Value' : entry['value']\n",
    "            })\n",
    "#create data frame "
   ]
  },
  {
   "cell_type": "markdown",
   "id": "1a50db71-f852-48fe-aaff-ce6d3fdf8c7e",
   "metadata": {},
   "source": [
    "We have our data. Now I can create data frame. I will need to map the months to numbers for the plot to work later. So I prep the data here"
   ]
  },
  {
   "cell_type": "code",
   "execution_count": null,
   "id": "31e4ad34-f680-471e-8bac-51d9cf7ef774",
   "metadata": {},
   "outputs": [],
   "source": [
    "\n",
    "data_frame = pd.DataFrame(data_list)\n",
    "\n",
    "# Map month names to numbers\n",
    "month_map = {\n",
    "    'January': 1,\n",
    "    'February': 2,\n",
    "    'March': 3,\n",
    "    'April': 4,\n",
    "    'May': 5,\n",
    "    'June': 6,\n",
    "    'July': 7,\n",
    "    'August': 8,\n",
    "    'September': 9,\n",
    "    'October': 10,\n",
    "    'November': 11,\n",
    "    'December': 12\n",
    "}\n",
    "#combine month and year\n",
    "data_frame['Month'] = data_frame['Month'].map(month_map)\n",
    "\n",
    "data_frame['Date'] = pd.to_datetime(data_frame[['Year', 'Month']].assign(Day=1))\n",
    "\n",
    "# Convert 'Value' column to numeric\n",
    "data_frame['Value'] = pd.to_numeric(data_frame['Value'], errors='coerce')\n",
    "\n",
    "\n"
   ]
  },
  {
   "cell_type": "code",
   "execution_count": null,
   "id": "aa0d0f24-bc92-416e-8358-562479ea2681",
   "metadata": {},
   "outputs": [],
   "source": [
    "\n",
    "# collect unique data types\n",
    "all_types = data_frame['Type'].unique()\n",
    "# Display the plot for each data type\n",
    "for types in all_types:\n",
    "    sub_df = data_frame[data_frame['Type'] == data_type]\n",
    "    plt.figure(figsize=(12, 6))\n",
    "    plt.scatter(sub_df['Date'], sub_df['Value'], marker='o', label=data_type)\n",
    "    plt.title(f'{data_type} Over Years')\n",
    "    plt.xlabel('Date')\n",
    "    plt.ylabel('Value')\n",
    "    plt.ylim(min(data_frame['Value'])-10, max(data_frame['Value'])+10)  # Adjust y-axis limits\n",
    "    plt.grid(True)\n",
    "    plt.legend()\n",
    "    plt.show()"
   ]
  }
 ],
 "metadata": {
  "kernelspec": {
   "display_name": "Python 3 (ipykernel)",
   "language": "python",
   "name": "python3"
  },
  "language_info": {
   "codemirror_mode": {
    "name": "ipython",
    "version": 3
   },
   "file_extension": ".py",
   "mimetype": "text/x-python",
   "name": "python",
   "nbconvert_exporter": "python",
   "pygments_lexer": "ipython3",
   "version": "3.9.13"
  }
 },
 "nbformat": 4,
 "nbformat_minor": 5
}
